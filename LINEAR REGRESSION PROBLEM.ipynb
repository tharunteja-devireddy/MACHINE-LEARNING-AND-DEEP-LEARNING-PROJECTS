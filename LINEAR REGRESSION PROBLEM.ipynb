{
 "cells": [
  {
   "cell_type": "markdown",
   "id": "5f094ee9",
   "metadata": {},
   "source": [
    "<a id = 'top'></a>\n",
    "##### THIS NOTE BOOK CONTAINS LINEAR REGRESSION PROBLEM ADDRESSED BY FOLLOWING ALGORITHMS\n",
    "- we will be constructing a housing price predicting model\n",
    " - [ANLAYSING THE DATA SET](#dataset)\n",
    " - [USING REGULAR LINEAR REGRESSION MODEL ](#linear)\n",
    "  - [USING KNN REGRESSION](#knn)\n",
    "  - [USING DECISION TREE REGRESSION](#dtree)\n",
    "  - [USING RANDOM FOREST REGRESSION](#rforest)\n",
    "  - [CONCLUSIONS](#conclusion)\n",
    "---------------------------------------------------------------------[BACK TO TOP](#top)"
   ]
  },
  {
   "cell_type": "code",
   "execution_count": 1,
   "id": "2321aac9",
   "metadata": {},
   "outputs": [],
   "source": [
    "# importing libraries\n",
    "import numpy as np\n",
    "import matplotlib.pyplot as plt\n",
    "import tensorflow as tf\n",
    "import sklearn\n",
    "import time\n",
    "import math      # not needed just in case\n",
    "import random    # not needed just in case"
   ]
  },
  {
   "cell_type": "markdown",
   "id": "a2e8ffe1",
   "metadata": {},
   "source": [
    "<a id = 'dataset'></a>\n",
    "### ANLYSING THE DATASET\n",
    "- we will be loading the boston housing dataset that \n",
    "- that stores 506 houses details 13 features and their prices\n",
    "- the size of dataset is 506 x 13\n",
    "- which will be split into training and test datasets\n",
    "- we will construct a model that can take a 13 feature vector as input and predict its price\n",
    "---------------------------------------------------------------------[BACK TO TOP](#top)"
   ]
  },
  {
   "cell_type": "code",
   "execution_count": 2,
   "id": "8e51fd17",
   "metadata": {},
   "outputs": [
    {
     "name": "stdout",
     "output_type": "stream",
     "text": [
      "(404, 13) (404,)\n",
      "(102, 13) (102,)\n"
     ]
    }
   ],
   "source": [
    "# loading the boston housing  dataset for regression analysis using knn regressor\n",
    "# splitting the data into train and test and printing their respective shapes\n",
    "data = tf.keras.datasets.boston_housing.load_data() \n",
    "xtrain = data[0][0]\n",
    "ytrain = data[0][1]\n",
    "xtest  = data[1][0]\n",
    "ytest  = data[1][1]\n",
    "print(xtrain.shape,ytrain.shape)\n",
    "print(xtest.shape,ytest.shape)"
   ]
  },
  {
   "cell_type": "markdown",
   "id": "0a9eac11",
   "metadata": {},
   "source": [
    "<a id = ''></a>\n",
    "### LINEAR REGRESSION DIRECTLY\n",
    "---------------------------------------------------------------------[BACK TO TOP](#top)"
   ]
  },
  {
   "cell_type": "code",
   "execution_count": 4,
   "id": "b8e7f4ca",
   "metadata": {},
   "outputs": [
    {
     "name": "stdout",
     "output_type": "stream",
     "text": [
      "test error using model built using sklearn 23.195599256422977\n"
     ]
    }
   ],
   "source": [
    "# using sklearn\n",
    "# importing the linear regression model\n",
    "from sklearn.linear_model import LinearRegression \n",
    "linear1 = LinearRegression(normalize = True)\n",
    "linear1.fit(xtrain,ytrain)  # training only on first 450 examples\n",
    "pred = linear1.predict(xtest)   # predicting the prices of rest of the houses\n",
    "from sklearn.metrics import mean_squared_error \n",
    "print('test error using model built using sklearn',mean_squared_error(ytest,pred)) \n",
    "# obtaining mean squared error between actual price amd predicted price                                          # "
   ]
  },
  {
   "cell_type": "markdown",
   "id": "3133974b",
   "metadata": {},
   "source": [
    "<a id = ''></a>\n",
    "### USING KNN REGRESSOR\n",
    "---------------------------------------------------------------------[BACK TO TOP](#top)"
   ]
  },
  {
   "cell_type": "code",
   "execution_count": 5,
   "id": "d3dc6cfe",
   "metadata": {},
   "outputs": [
    {
     "name": "stdout",
     "output_type": "stream",
     "text": [
      "error in prediction =  36.96931372549021\n"
     ]
    }
   ],
   "source": [
    "from sklearn.neighbors import KNeighborsRegressor\n",
    "rmodel = KNeighborsRegressor(n_neighbors=5)\n",
    "rmodel.fit(xtrain,ytrain)           # fitting the data into the model\n",
    "pred = rmodel.predict(xtest)        # predicting the output's for test data\n",
    "from sklearn.metrics import mean_squared_error\n",
    "print('error in prediction = ',mean_squared_error(ytest,pred)) # error between actual and predicted outputs\n",
    "# tune no of neighbors until you get least error"
   ]
  },
  {
   "cell_type": "markdown",
   "id": "913c0f71",
   "metadata": {},
   "source": [
    "<a id = ''></a>\n",
    "### USING DECISION TREE REGRESSOR\n",
    "---------------------------------------------------------------------[BACK TO TOP](#top)"
   ]
  },
  {
   "cell_type": "code",
   "execution_count": 6,
   "id": "74a4461b",
   "metadata": {},
   "outputs": [
    {
     "name": "stdout",
     "output_type": "stream",
     "text": [
      "error between predicted and actual housing prices 31.370980392156863\n"
     ]
    }
   ],
   "source": [
    "from sklearn.tree import DecisionTreeRegressor\n",
    "robject = DecisionTreeRegressor()\n",
    "robject.fit(xtrain,ytrain)\n",
    "pred = robject.predict(xtest)\n",
    "from sklearn.metrics import mean_squared_error\n",
    "print('error between predicted and actual housing prices',mean_squared_error(ytest,pred))"
   ]
  },
  {
   "cell_type": "markdown",
   "id": "9d72e16c",
   "metadata": {},
   "source": [
    "<a id = ''></a>\n",
    "### USING RANDOM FOREST REGRESSOR\n",
    "---------------------------------------------------------------------[BACK TO TOP](#top)"
   ]
  },
  {
   "cell_type": "code",
   "execution_count": 7,
   "id": "5edc75a2",
   "metadata": {},
   "outputs": [
    {
     "name": "stdout",
     "output_type": "stream",
     "text": [
      "error between predicted and actual housing prices 13.605245098039214\n"
     ]
    }
   ],
   "source": [
    "# using randomforest regressor\n",
    "from sklearn.ensemble import RandomForestRegressor\n",
    "robject = RandomForestRegressor(n_estimators = 10)\n",
    "robject.fit(xtrain,ytrain)\n",
    "pred = robject.predict(xtest)\n",
    "from sklearn.metrics import mean_squared_error\n",
    "print('error between predicted and actual housing prices',mean_squared_error(ytest,pred))\n",
    "# tune no of trees in the forest until u get the least error"
   ]
  },
  {
   "cell_type": "markdown",
   "id": "e3b1c7ca",
   "metadata": {},
   "source": [
    "<a id = ''></a>\n",
    "### CONCLUSIONS\n",
    "- even though these models have not yet been tuned to given their peak performance\n",
    "  let us just compare their performance\n",
    "                                  mean_squared_error\n",
    "      1. regular linear model   : 23\n",
    "      2. knn regressor          : 36\n",
    "      3. decision tree regressor: 31\n",
    "      4. random forest regressor: 13\n",
    "- random forest regressor way out performed the rest of the models\n",
    "- this is test error and not the training error\n",
    "---------------------------------------------------------------------[BACK TO TOP](#top)"
   ]
  }
 ],
 "metadata": {
  "kernelspec": {
   "display_name": "Python 3 (ipykernel)",
   "language": "python",
   "name": "python3"
  },
  "language_info": {
   "codemirror_mode": {
    "name": "ipython",
    "version": 3
   },
   "file_extension": ".py",
   "mimetype": "text/x-python",
   "name": "python",
   "nbconvert_exporter": "python",
   "pygments_lexer": "ipython3",
   "version": "3.9.7"
  }
 },
 "nbformat": 4,
 "nbformat_minor": 5
}
