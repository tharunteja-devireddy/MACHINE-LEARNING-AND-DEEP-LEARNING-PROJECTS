{
 "cells": [
  {
   "cell_type": "markdown",
   "id": "13395e93",
   "metadata": {},
   "source": [
    "<a id = 'top'></a>\n",
    "### CLOATHING IMAGE CLASSIFICATION MODEL\n",
    "- in this notebook we will be building a convolutional neural network capable of classifing a cloathing item into 1 of 10 categories\n",
    "- [PROJECT AIM AND DATA](#aim)\n",
    "- [CONVOLUTIONAL NEURAL NETWORK](#cnn)\n",
    "- [CONCLUSION](#conclusion)\n",
    "-------------------------------------------------------------[BACK TO TOP](#top)"
   ]
  },
  {
   "cell_type": "code",
   "execution_count": 1,
   "id": "e027fbd4",
   "metadata": {},
   "outputs": [],
   "source": [
    "# some of these libraries may not be used in the project\n",
    "import numpy as np\n",
    "import matplotlib.pyplot as plt\n",
    "import pandas as pd\n",
    "import tensorflow as tf\n",
    "import sklearn\n",
    "import time\n",
    "import math\n",
    "import random\n",
    "import os"
   ]
  },
  {
   "cell_type": "markdown",
   "id": "661c2601",
   "metadata": {},
   "source": [
    "<a id = ''></a>\n",
    "### PROJECT AIM AND DATA\n",
    "#### Aim\n",
    "- in this notebook we will be building a convolutional neural network capable of classifing a cloathing item into 1 of 10 categories\n",
    "#### DATA\n",
    "- we will be using a dataset called fashion amnist which contains 70k greyscale 28x28 pixel images\n",
    "  we will train our model on 60k images and test our model on 10k images\n",
    "- these images are stored as a 3 dimentional np array\n",
    "-------------------------------------------------------------[BACK TO TOP](#top)"
   ]
  },
  {
   "cell_type": "code",
   "execution_count": 24,
   "id": "70c6b17d",
   "metadata": {},
   "outputs": [
    {
     "name": "stdout",
     "output_type": "stream",
     "text": [
      "(60000, 28, 28, 1) (60000,)\n",
      "(10000, 28, 28, 1) (10000,)\n"
     ]
    }
   ],
   "source": [
    "# loading the fashion mnist  dataset for classification \n",
    "# splitting the data into train and test and printing their respective shapes\n",
    "data = tf.keras.datasets.fashion_mnist.load_data()\n",
    "xtrain = data[0][0].reshape(xtrain.shape[0],28,28,1)\n",
    "ytrain = data[0][1]\n",
    "xtest  = data[1][0].reshape(xtest.shape[0],28,28,1)\n",
    "ytest  = data[1][1]\n",
    "print(xtrain.shape,ytrain.shape)\n",
    "print(xtest.shape,ytest.shape)"
   ]
  },
  {
   "cell_type": "code",
   "execution_count": 26,
   "id": "ac71578e",
   "metadata": {},
   "outputs": [
    {
     "data": {
      "image/png": "[encoded data removed]",
      "text/plain": [
       "<Figure size 432x288 with 5 Axes>"
      ]
     },
     "metadata": {
      "needs_background": "light"
     },
     "output_type": "display_data"
    }
   ],
   "source": [
    "# visualising few images \n",
    "for a in range(5):\n",
    "    plt.subplot(1,5,a+1)\n",
    "    plt.imshow(xtrain[a,:,:].reshape(28,28))\n",
    "    plt.title(f\"class = {ytrain[a]}\")\n"
   ]
  },
  {
   "cell_type": "markdown",
   "id": "81dd876d",
   "metadata": {},
   "source": [
    "<a id = 'cnn'></a>\n",
    "### CLASSFICATION USING CNN\n",
    "-------------------------------------------------------------[BACK TO TOP](#top)"
   ]
  },
  {
   "cell_type": "code",
   "execution_count": 27,
   "id": "cf3641aa",
   "metadata": {},
   "outputs": [],
   "source": [
    "cnn = tf.keras.Sequential([\n",
    "    tf.keras.Input(shape = [28,28,1]),\n",
    "    tf.keras.layers.Normalization(axis=-1),\n",
    "    tf.keras.layers.Conv2D(filters = 8,kernel_size = (3,3),padding = 'same',activation = 'relu'),\n",
    "    tf.keras.layers.MaxPooling2D(pool_size = (2,2),strides = (2,2),padding = 'valid'),\n",
    "    tf.keras.layers.Flatten(),\n",
    "    tf.keras.layers.Dense(units=16,activation = 'relu'),\n",
    "    tf.keras.layers.Dense(units = 10 , activation = 'softmax')  \n",
    "])\n",
    "los = tf.keras.losses.SparseCategoricalCrossentropy()\n",
    "opt = tf.keras.optimizers.Adam()\n",
    "met = tf.keras.metrics.SparseCategoricalAccuracy()\n",
    "cnn.compile(optimizer = opt,loss = los,metrics = met)"
   ]
  },
  {
   "cell_type": "code",
   "execution_count": 28,
   "id": "6e881797",
   "metadata": {},
   "outputs": [
    {
     "name": "stdout",
     "output_type": "stream",
     "text": [
      "Epoch 1/10\n",
      "1875/1875 [==============================] - 10s 5ms/step - loss: 1.3367 - sparse_categorical_accuracy: 0.5448\n",
      "Epoch 2/10\n",
      "1875/1875 [==============================] - 10s 5ms/step - loss: 0.7808 - sparse_categorical_accuracy: 0.6891\n",
      "Epoch 3/10\n",
      "1875/1875 [==============================] - 11s 6ms/step - loss: 0.5536 - sparse_categorical_accuracy: 0.7748\n",
      "Epoch 4/10\n",
      "1875/1875 [==============================] - 12s 7ms/step - loss: 0.4828 - sparse_categorical_accuracy: 0.8114\n",
      "Epoch 5/10\n",
      "1875/1875 [==============================] - 14s 7ms/step - loss: 0.4099 - sparse_categorical_accuracy: 0.8598\n",
      "Epoch 6/10\n",
      "1875/1875 [==============================] - 14s 7ms/step - loss: 0.3595 - sparse_categorical_accuracy: 0.8756\n",
      "Epoch 7/10\n",
      "1875/1875 [==============================] - 15s 8ms/step - loss: 0.3246 - sparse_categorical_accuracy: 0.8864\n",
      "Epoch 8/10\n",
      "1875/1875 [==============================] - 14s 8ms/step - loss: 0.3035 - sparse_categorical_accuracy: 0.8931\n",
      "Epoch 9/10\n",
      "1875/1875 [==============================] - 14s 8ms/step - loss: 0.2916 - sparse_categorical_accuracy: 0.8977\n",
      "Epoch 10/10\n",
      "1875/1875 [==============================] - 15s 8ms/step - loss: 0.2786 - sparse_categorical_accuracy: 0.9006\n"
     ]
    }
   ],
   "source": [
    "history = cnn.fit(xtrain,ytrain,epochs=10)"
   ]
  },
  {
   "cell_type": "code",
   "execution_count": 35,
   "id": "8fbe67cc",
   "metadata": {},
   "outputs": [
    {
     "data": {
      "image/png": "[encoded data removed]",
      "text/plain": [
       "<Figure size 432x288 with 1 Axes>"
      ]
     },
     "metadata": {
      "needs_background": "light"
     },
     "output_type": "display_data"
    }
   ],
   "source": [
    "# plotting test error with epochs\n",
    "plt.plot(history.history['loss'],range(10),label = 'training loss')\n",
    "plt.xlabel('epoch number',)\n",
    "plt.ylabel('training loss')\n",
    "plt.legend()\n",
    "plt.tight_layout()\n",
    "plt.grid()"
   ]
  },
  {
   "cell_type": "code",
   "execution_count": 37,
   "id": "576a640f",
   "metadata": {},
   "outputs": [
    {
     "name": "stdout",
     "output_type": "stream",
     "text": [
      "complete report                precision    recall  f1-score   support\n",
      "\n",
      "           0       0.77      0.88      0.82      1000\n",
      "           1       0.96      0.97      0.97      1000\n",
      "           2       0.81      0.81      0.81      1000\n",
      "           3       0.88      0.87      0.87      1000\n",
      "           4       0.81      0.76      0.78      1000\n",
      "           5       0.98      0.97      0.98      1000\n",
      "           6       0.67      0.62      0.65      1000\n",
      "           7       0.94      0.97      0.95      1000\n",
      "           8       0.98      0.96      0.97      1000\n",
      "           9       0.98      0.95      0.96      1000\n",
      "\n",
      "    accuracy                           0.88     10000\n",
      "   macro avg       0.88      0.88      0.88     10000\n",
      "weighted avg       0.88      0.88      0.88     10000\n",
      "\n",
      "[[876   3  13  30   5   0  67   1   5   0]\n",
      " [  3 975   3  10   7   0   0   0   2   0]\n",
      " [ 19   1 812  10  82   0  76   0   0   0]\n",
      " [ 26  22   6 869  35   0  40   0   2   0]\n",
      " [  2   5  95  28 763   0 105   0   2   0]\n",
      " [  1   3   0   0   0 973   0  15   1   7]\n",
      " [204   2  77  37  53   0 622   0   5   0]\n",
      " [  0   1   0   0   0  16   0 970   2  11]\n",
      " [  5   1   2   6   2   0  17   4 963   0]\n",
      " [  0   0   0   0   0   5   1  46   1 947]]\n"
     ]
    }
   ],
   "source": [
    "# testing the model on test set\n",
    "from sklearn.metrics import classification_report,confusion_matrix\n",
    "pred = cnn.predict(xtest)\n",
    "pred = np.argmax(pred,axis=1)\n",
    "print('complete report ',classification_report(ytest,pred))\n",
    "print(confusion_matrix(ytest,pred))"
   ]
  },
  {
   "cell_type": "markdown",
   "id": "5f1c44e4",
   "metadata": {},
   "source": [
    "<a id = 'conclusion'></a>\n",
    "### CONCLUSIONS\n",
    "- the traiing accuracy of the model is      90 %\n",
    "- while the test accuracy of the model is   88 %\n",
    "- So, the model is suffering from a slight variance(overfitting to the training set)\n",
    "- The model performance can be further imporved by tuning the hyperparameters on validation set\n",
    "  "
   ]
  }
 ],
 "metadata": {
  "kernelspec": {
   "display_name": "Python 3 (ipykernel)",
   "language": "python",
   "name": "python3"
  },
  "language_info": {
   "codemirror_mode": {
    "name": "ipython",
    "version": 3
   },
   "file_extension": ".py",
   "mimetype": "text/x-python",
   "name": "python",
   "nbconvert_exporter": "python",
   "pygments_lexer": "ipython3",
   "version": "3.9.7"
  }
 },
 "nbformat": 4,
 "nbformat_minor": 5
}
