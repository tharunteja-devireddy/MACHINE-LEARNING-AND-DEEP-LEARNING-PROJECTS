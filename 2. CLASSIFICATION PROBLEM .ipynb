{
 "cells": [
  {
   "cell_type": "markdown",
   "id": "e48bd08e",
   "metadata": {},
   "source": [
    "<a id = 'top'></a>\n",
    "### HAND WRITTEN DIGITS RECOGNITION PROJECT\n",
    "  - [PROJECT AIM AND DATA](#aim)\n",
    "  - [USING KNN CLASSIFIER ](#knn)\n",
    "  - [USING DECISION TREE CLASSIFIER](#dtree)\n",
    "  - [USING RANDOM FOREST CLASSIFIER](#rforest)\n",
    "  - [CONCLUSIONS](#conclusion)\n",
    "---------------------------------------------------------------------[BACK TO TOP](#top)"
   ]
  },
  {
   "cell_type": "code",
   "execution_count": 1,
   "id": "27e6ec41",
   "metadata": {},
   "outputs": [],
   "source": [
    "# importing libraries\n",
    "import numpy as np\n",
    "import matplotlib.pyplot as plt\n",
    "import tensorflow as tf\n",
    "import sklearn\n",
    "import time\n",
    "import math      # not needed just in case\n",
    "import random    # not needed just in case"
   ]
  },
  {
   "cell_type": "markdown",
   "id": "d8793d4c",
   "metadata": {},
   "source": [
    "<a id = 'aim'></a>\n",
    "### PROJECT AIM AND DATA\n",
    "#### AIM:- \n",
    "- developing a model that could detect a handwritten digits from 0 to 9\n",
    "- and we will construct a supervised classification model using\n",
    "   1. knn classifier\n",
    "   2. decision tree classifier\n",
    "   3. random forest classifier\n",
    "   and address our problem\n",
    "#### DATA\n",
    "- we will be loading the digits dataset that \n",
    "- that stores 1797  9x9 pixels (flattened) grayscale images of handwritten digits from 0 to 9\n",
    "- the size of dataset is 1797 x 81 \n",
    "- which will be split into training and test datasets\n",
    "- we will construct a model that can detect (classify any 9x9 flattend greyscale image of hand\n",
    "  written digit ) into one of 0 to 9 or 1 to 10 numbers(classes)\n",
    "---------------------------------------------------------------------[BACK TO TOP](#top)"
   ]
  },
  {
   "cell_type": "code",
   "execution_count": 2,
   "id": "eba430ec",
   "metadata": {},
   "outputs": [
    {
     "name": "stdout",
     "output_type": "stream",
     "text": [
      "(1500, 64) (1500,)\n",
      "(297, 64) (297,)\n"
     ]
    }
   ],
   "source": [
    "# loading data for classification analysis \n",
    "# loading digits data set \n",
    "# and splitting it into test and train sets\n",
    "from sklearn.datasets import load_digits\n",
    "data = load_digits()\n",
    "xtrain = data['data'][:1500,:]\n",
    "ytrain = data['target'][:1500]\n",
    "xtest = data['data'][1500:,:]\n",
    "ytest = data['target'][1500:]\n",
    "print(xtrain.shape,ytrain.shape)\n",
    "print(xtest.shape,ytest.shape)"
   ]
  },
  {
   "cell_type": "markdown",
   "id": "20de1b69",
   "metadata": {},
   "source": [
    "<a id = ''></a>\n",
    "### KNN CLASSIFIER\n",
    "---------------------------------------------------------------------[BACK TO TOP](#top)"
   ]
  },
  {
   "cell_type": "code",
   "execution_count": 3,
   "id": "07d9c7f4",
   "metadata": {},
   "outputs": [
    {
     "name": "stdout",
     "output_type": "stream",
     "text": [
      "[[26  0  0  0  1  0  0  0  0  0]\n",
      " [ 0 31  0  0  0  0  0  0  0  0]\n",
      " [ 0  0 27  0  0  0  0  0  0  0]\n",
      " [ 0  0  1 26  0  1  0  1  1  0]\n",
      " [ 0  0  0  0 31  0  0  1  1  0]\n",
      " [ 0  0  0  0  0 30  0  0  0  0]\n",
      " [ 0  0  0  0  0  0 30  0  0  0]\n",
      " [ 0  0  0  0  0  0  0 30  0  0]\n",
      " [ 0  2  0  0  0  0  0  1 25  0]\n",
      " [ 0  0  0  1  0  2  0  0  0 28]]\n",
      "              precision    recall  f1-score   support\n",
      "\n",
      "           0       1.00      0.96      0.98        27\n",
      "           1       0.94      1.00      0.97        31\n",
      "           2       0.96      1.00      0.98        27\n",
      "           3       0.96      0.87      0.91        30\n",
      "           4       0.97      0.94      0.95        33\n",
      "           5       0.91      1.00      0.95        30\n",
      "           6       1.00      1.00      1.00        30\n",
      "           7       0.91      1.00      0.95        30\n",
      "           8       0.93      0.89      0.91        28\n",
      "           9       1.00      0.90      0.95        31\n",
      "\n",
      "    accuracy                           0.96       297\n",
      "   macro avg       0.96      0.96      0.96       297\n",
      "weighted avg       0.96      0.96      0.96       297\n",
      "\n"
     ]
    }
   ],
   "source": [
    "from sklearn.neighbors import KNeighborsClassifier\n",
    "cobject = KNeighborsClassifier(n_neighbors=5)\n",
    "cobject.fit(xtrain,ytrain)\n",
    "pred = cobject.predict(xtest)\n",
    "from sklearn.metrics import classification_report,confusion_matrix\n",
    "print(confusion_matrix(ytest,pred))\n",
    "print(classification_report(ytest,pred))\n",
    "# tune neighbors until you get highest test accuracy"
   ]
  },
  {
   "cell_type": "markdown",
   "id": "d7db5d41",
   "metadata": {},
   "source": [
    "<a id = ''></a>\n",
    "### DECISON TREE CLASSIFIER\n",
    "---------------------------------------------------------------------[BACK TO TOP](#top)"
   ]
  },
  {
   "cell_type": "code",
   "execution_count": 4,
   "id": "7c06323b",
   "metadata": {},
   "outputs": [
    {
     "name": "stdout",
     "output_type": "stream",
     "text": [
      "              precision    recall  f1-score   support\n",
      "\n",
      "           0       0.93      0.96      0.95        27\n",
      "           1       0.72      0.58      0.64        31\n",
      "           2       0.77      0.74      0.75        27\n",
      "           3       0.64      0.53      0.58        30\n",
      "           4       0.74      0.88      0.81        33\n",
      "           5       0.86      0.83      0.85        30\n",
      "           6       0.93      0.83      0.88        30\n",
      "           7       0.62      0.80      0.70        30\n",
      "           8       0.63      0.61      0.62        28\n",
      "           9       0.78      0.81      0.79        31\n",
      "\n",
      "    accuracy                           0.76       297\n",
      "   macro avg       0.76      0.76      0.76       297\n",
      "weighted avg       0.76      0.76      0.76       297\n",
      "\n",
      "[[26  0  0  0  0  0  0  1  0  0]\n",
      " [ 0 18  3  1  3  0  0  0  5  1]\n",
      " [ 1  0 20  1  0  0  1  3  1  0]\n",
      " [ 0  1  2 16  1  3  0  5  2  0]\n",
      " [ 0  0  0  0 29  0  1  2  0  1]\n",
      " [ 0  0  0  1  3 25  0  0  0  1]\n",
      " [ 0  1  0  0  2  0 25  0  2  0]\n",
      " [ 0  0  0  4  1  0  0 24  0  1]\n",
      " [ 1  3  1  1  0  0  0  2 17  3]\n",
      " [ 0  2  0  1  0  1  0  2  0 25]]\n"
     ]
    }
   ],
   "source": [
    "from sklearn.tree import DecisionTreeClassifier\n",
    "robject = DecisionTreeClassifier()\n",
    "robject.fit(xtrain,ytrain)\n",
    "pred = robject.predict(xtest)\n",
    "from sklearn.metrics import classification_report,confusion_matrix\n",
    "print(classification_report(ytest,pred))\n",
    "print(confusion_matrix(ytest,pred))"
   ]
  },
  {
   "cell_type": "markdown",
   "id": "72ae58bb",
   "metadata": {},
   "source": [
    "<a id = ''></a>\n",
    "### RANDOM FOREST CLASSIFIER\n",
    "---------------------------------------------------------------------[BACK TO TOP](#top)"
   ]
  },
  {
   "cell_type": "code",
   "execution_count": 5,
   "id": "7d733ed8",
   "metadata": {},
   "outputs": [
    {
     "name": "stdout",
     "output_type": "stream",
     "text": [
      "              precision    recall  f1-score   support\n",
      "\n",
      "           0       0.96      0.96      0.96        27\n",
      "           1       0.78      0.94      0.85        31\n",
      "           2       0.93      0.96      0.95        27\n",
      "           3       0.95      0.63      0.76        30\n",
      "           4       0.91      0.91      0.91        33\n",
      "           5       0.87      0.90      0.89        30\n",
      "           6       0.97      0.93      0.95        30\n",
      "           7       0.88      0.97      0.92        30\n",
      "           8       0.69      0.71      0.70        28\n",
      "           9       0.87      0.84      0.85        31\n",
      "\n",
      "    accuracy                           0.88       297\n",
      "   macro avg       0.88      0.88      0.87       297\n",
      "weighted avg       0.88      0.88      0.87       297\n",
      "\n",
      "[[26  0  0  0  1  0  0  0  0  0]\n",
      " [ 1 29  0  0  0  0  0  0  0  1]\n",
      " [ 0  0 26  0  0  0  1  0  0  0]\n",
      " [ 0  3  1 19  0  1  0  0  6  0]\n",
      " [ 0  0  0  0 30  1  0  0  1  1]\n",
      " [ 0  1  0  1  0 27  0  0  0  1]\n",
      " [ 0  0  1  0  1  0 28  0  0  0]\n",
      " [ 0  0  0  0  0  0  0 29  1  0]\n",
      " [ 0  4  0  0  1  0  0  2 20  1]\n",
      " [ 0  0  0  0  0  2  0  2  1 26]]\n"
     ]
    }
   ],
   "source": [
    "from sklearn.ensemble import RandomForestClassifier\n",
    "robject = RandomForestClassifier(n_estimators = 10)\n",
    "robject.fit(xtrain,ytrain)\n",
    "pred = robject.predict(xtest)\n",
    "from sklearn.metrics import classification_report,confusion_matrix\n",
    "print(classification_report(ytest,pred))\n",
    "print(confusion_matrix(ytest,pred))"
   ]
  },
  {
   "cell_type": "markdown",
   "id": "c078ff97",
   "metadata": {},
   "source": [
    "<a id = ''></a>\n",
    "### CONCLUSIONS\n",
    "- even though these models have not yet been tuned to given their peak performance\n",
    "  let us just compare their performance\n",
    "                                    accuracy\n",
    "  1. knn classifier            :  96%\n",
    "  2. decision tree classifier  :  75% \n",
    "  3. random forest classifier  :  88%\n",
    "- knn classifier outperformed the rest of the models\n",
    "- these are test accuracies and not training \n",
    "---------------------------------------------------------------------[BACK TO TOP](#top)"
   ]
  }
 ],
 "metadata": {
  "kernelspec": {
   "display_name": "Python 3 (ipykernel)",
   "language": "python",
   "name": "python3"
  },
  "language_info": {
   "codemirror_mode": {
    "name": "ipython",
    "version": 3
   },
   "file_extension": ".py",
   "mimetype": "text/x-python",
   "name": "python",
   "nbconvert_exporter": "python",
   "pygments_lexer": "ipython3",
   "version": "3.9.7"
  }
 },
 "nbformat": 4,
 "nbformat_minor": 5
}
